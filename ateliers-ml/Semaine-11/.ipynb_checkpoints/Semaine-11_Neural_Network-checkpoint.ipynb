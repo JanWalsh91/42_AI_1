{
 "cells": [
  {
   "cell_type": "markdown",
   "metadata": {},
   "source": [
    "# Semaine 11 - Réseau de neurones de base"
   ]
  },
  {
   "cell_type": "markdown",
   "metadata": {},
   "source": [
    "Cette semaine nous allons écrire un réseau de neurones de base, que nous allons entraîner afin qu'il inverse des séquences de bits. Si vous réussissez à l'implémenter, vous pourrez ensuite vous amuser à l'utiliser sur d'autres types de données"
   ]
  },
  {
   "cell_type": "markdown",
   "metadata": {},
   "source": [
    "## Importations et initialisations de variables"
   ]
  },
  {
   "cell_type": "markdown",
   "metadata": {},
   "source": [
    "Nous n'allons utiliser que numpy pour cet exercice"
   ]
  },
  {
   "cell_type": "code",
   "execution_count": 7,
   "metadata": {
    "collapsed": true
   },
   "outputs": [],
   "source": [
    "import numpy as np"
   ]
  },
  {
   "cell_type": "markdown",
   "metadata": {},
   "source": [
    "Nous avons un réseau à deux couches (l'input ne comptant pas pour une couche). Nous allons utiliser 300 séquences de bits pour l'entraînement."
   ]
  },
  {
   "cell_type": "code",
   "execution_count": 2,
   "metadata": {
    "collapsed": true
   },
   "outputs": [],
   "source": [
    "# Nb de neurones sur chaque couche\n",
    "n_in = 10\n",
    "n_hidden = 8\n",
    "n_out = 10\n",
    "\n",
    "# Nb de 'training examples'\n",
    "m = 300"
   ]
  },
  {
   "cell_type": "code",
   "execution_count": 3,
   "metadata": {
    "collapsed": true
   },
   "outputs": [],
   "source": [
    "alpha = 1  # Learning rate\n",
    "epochs = 200  # nb iterations du gradient descent"
   ]
  },
  {
   "cell_type": "markdown",
   "metadata": {},
   "source": [
    "## Définition des fonctions d'activation"
   ]
  },
  {
   "cell_type": "markdown",
   "metadata": {},
   "source": [
    "Nous utiliserons la fonction tanh pour l'activation de la \"hidden layer\", et la sigmoïde pour la dernière couche. Implémentez-les si elle n'existent pas déjà dans numpy. Implémentez aussi la dérivée de l'une ou l'autre d'entre elles, le cas échéant.\n",
    "Attention! Les fonctions doivent pouvoir traiter des vecteurs ou des matrices en effectuant l'opération sur chaque élément de ces derniers."
   ]
  },
  {
   "cell_type": "code",
   "execution_count": 20,
   "metadata": {},
   "outputs": [
    {
     "name": "stdout",
     "output_type": "stream",
     "text": [
      "1.92874984796e-22\n"
     ]
    }
   ],
   "source": [
    "def sigmoid(x):\n",
    "    return 1 / ( 1 + np.exp(-x))"
   ]
  },
  {
   "cell_type": "code",
   "execution_count": 22,
   "metadata": {},
   "outputs": [
    {
     "name": "stdout",
     "output_type": "stream",
     "text": [
      "9.07957374049e-05\n"
     ]
    }
   ],
   "source": [
    "# Dérivée de tanh\n",
    "def tanh_prime(x):\n",
    "    return 1 - np.tanh(x)"
   ]
  },
  {
   "cell_type": "code",
   "execution_count": null,
   "metadata": {
    "collapsed": true
   },
   "outputs": [],
   "source": []
  },
  {
   "cell_type": "code",
   "execution_count": null,
   "metadata": {
    "collapsed": true
   },
   "outputs": [],
   "source": []
  },
  {
   "cell_type": "markdown",
   "metadata": {},
   "source": [
    "## Entraînement du réseau de neurones"
   ]
  },
  {
   "cell_type": "markdown",
   "metadata": {},
   "source": [
    "Nous allons écrire une fonction qui fait une activation puis une rétropropagation, puis renvoie l'erreur (loss) et le gradient (toutes ces variables qui commencent par d...). L'itération sur les 200 epochs se fera dans un deuxième temps."
   ]
  },
  {
   "cell_type": "code",
   "execution_count": 119,
   "metadata": {},
   "outputs": [],
   "source": [
    "def train(X, Y, W1, W2, b1, b2):\n",
    "    loss_history = []\n",
    "    \n",
    "    for epoch in range(epochs):\n",
    "        # Forward\n",
    "        # First layer\n",
    "        Z1 = np.add(np.dot(W1, X), b1)\n",
    "        A1 = np.tanh(Z1)\n",
    "        # Second layer\n",
    "        Z2 = np.add(np.dot(W2, A1), b2)\n",
    "        A2 = sigmoid(Z2)\n",
    "        \n",
    "        # Backward\n",
    "        dZ2 = A2 - Y\n",
    "        dW2 = (1/m) * np.dot(dZ2, A1.T)\n",
    "        db2 = (1/m) * np.sum(dZ2, axis=1, keepdims=True)\n",
    "        \n",
    "        dZ1 = np.multiply(np.dot(W2.T, dZ2), tanh_prime(Z1))\n",
    "        dW1 = (1/m) * np.dot(dZ1, X.T)\n",
    "        db1 = (1/m) * np.sum(dZ1, axis=1, keepdims=True)\n",
    "\n",
    "        # Parameter update (use the learning rate alpha here!)\n",
    "        W1 -= alpha * dW1\n",
    "        W2 -= alpha * dW2\n",
    "        b1 -= alpha * db1\n",
    "        b2 -= alpha * db2\n",
    "    \n",
    "        # Compute loss\n",
    "        loss = np.mean(-np.add(\n",
    "            np.multiply(\n",
    "                Y,\n",
    "                np.log(A2)\n",
    "            ),\n",
    "            np.multiply(\n",
    "                np.subtract(1, Y),\n",
    "                np.log(np.subtract(1, A2))\n",
    "            )\n",
    "        ))\n",
    "        \n",
    "        loss_history.append(loss)\n",
    "        print(\"Epoch %d, Loss: %.8f\" % (epoch, loss))\n",
    "    \n",
    "    return loss_history, W1, W2, b1, b2"
   ]
  },
  {
   "cell_type": "markdown",
   "metadata": {},
   "source": [
    "### Initialisation des paramètres du réseau"
   ]
  },
  {
   "cell_type": "markdown",
   "metadata": {},
   "source": [
    "Attention, certains paramètres sont initalisés à zéro, d'autres non..."
   ]
  },
  {
   "cell_type": "code",
   "execution_count": 120,
   "metadata": {},
   "outputs": [],
   "source": [
    "W1 = np.random.randn(n_hidden, n_in) * 0.01\n",
    "W2 = np.random.randn(n_out, n_hidden) * 0.01\n",
    "b1 = np.zeros((n_hidden, 1))\n",
    "b2 = np.zeros((n_out, 1))"
   ]
  },
  {
   "cell_type": "markdown",
   "metadata": {},
   "source": [
    "## Génération des données d'entraînement"
   ]
  },
  {
   "cell_type": "markdown",
   "metadata": {},
   "source": [
    "Ici il s'agit créer 300 séries de 10 chiffres binaires (1 et 0) pour les X.\n",
    "Les Y seront ces mêmes séries, inversées."
   ]
  },
  {
   "cell_type": "code",
   "execution_count": 121,
   "metadata": {
    "collapsed": true
   },
   "outputs": [],
   "source": [
    "# Data generation\n",
    "X = np.random.binomial(1, 0.5, (n_in, m))\n",
    "Y = X ^ 1"
   ]
  },
  {
   "cell_type": "markdown",
   "metadata": {},
   "source": [
    "## Lancer l'entraînement du réseau"
   ]
  },
  {
   "cell_type": "code",
   "execution_count": 123,
   "metadata": {},
   "outputs": [
    {
     "name": "stdout",
     "output_type": "stream",
     "text": [
      "Epoch 0, Loss: 0.41213370\n",
      "Epoch 1, Loss: 0.41207104\n",
      "Epoch 2, Loss: 0.41199947\n",
      "Epoch 3, Loss: 0.41191180\n",
      "Epoch 4, Loss: 0.41180175\n",
      "Epoch 5, Loss: 0.41166503\n",
      "Epoch 6, Loss: 0.41150070\n",
      "Epoch 7, Loss: 0.41131264\n",
      "Epoch 8, Loss: 0.41111023\n",
      "Epoch 9, Loss: 0.41090695\n",
      "Epoch 10, Loss: 0.41071675\n",
      "Epoch 11, Loss: 0.41055019\n",
      "Epoch 12, Loss: 0.41041244\n",
      "Epoch 13, Loss: 0.41030293\n",
      "Epoch 14, Loss: 0.41021548\n",
      "Epoch 15, Loss: 0.41013884\n",
      "Epoch 16, Loss: 0.41005848\n",
      "Epoch 17, Loss: 0.40995983\n",
      "Epoch 18, Loss: 0.40983214\n",
      "Epoch 19, Loss: 0.40967144\n",
      "Epoch 20, Loss: 0.40948161\n",
      "Epoch 21, Loss: 0.40927304\n",
      "Epoch 22, Loss: 0.40905923\n",
      "Epoch 23, Loss: 0.40885274\n",
      "Epoch 24, Loss: 0.40866265\n",
      "Epoch 25, Loss: 0.40849384\n",
      "Epoch 26, Loss: 0.40834682\n",
      "Epoch 27, Loss: 0.40821765\n",
      "Epoch 28, Loss: 0.40809804\n",
      "Epoch 29, Loss: 0.40797614\n",
      "Epoch 30, Loss: 0.40783908\n",
      "Epoch 31, Loss: 0.40767795\n",
      "Epoch 32, Loss: 0.40749381\n",
      "Epoch 33, Loss: 0.40729913\n",
      "Epoch 34, Loss: 0.40711066\n",
      "Epoch 35, Loss: 0.40693965\n",
      "Epoch 36, Loss: 0.40678805\n",
      "Epoch 37, Loss: 0.40665079\n",
      "Epoch 38, Loss: 0.40651926\n",
      "Epoch 39, Loss: 0.40638452\n",
      "Epoch 40, Loss: 0.40624162\n",
      "Epoch 41, Loss: 0.40609531\n",
      "Epoch 42, Loss: 0.40596163\n",
      "Epoch 43, Loss: 0.40585596\n",
      "Epoch 44, Loss: 0.40577650\n",
      "Epoch 45, Loss: 0.40570736\n",
      "Epoch 46, Loss: 0.40563308\n",
      "Epoch 47, Loss: 0.40554554\n",
      "Epoch 48, Loss: 0.40544496\n",
      "Epoch 49, Loss: 0.40534004\n",
      "Epoch 50, Loss: 0.40524799\n",
      "Epoch 51, Loss: 0.40518603\n",
      "Epoch 52, Loss: 0.40515105\n",
      "Epoch 53, Loss: 0.40512216\n",
      "Epoch 54, Loss: 0.40508096\n",
      "Epoch 55, Loss: 0.40501916\n",
      "Epoch 56, Loss: 0.40493664\n",
      "Epoch 57, Loss: 0.40483526\n",
      "Epoch 58, Loss: 0.40471454\n",
      "Epoch 59, Loss: 0.40457163\n",
      "Epoch 60, Loss: 0.40440379\n",
      "Epoch 61, Loss: 0.40421164\n",
      "Epoch 62, Loss: 0.40400096\n",
      "Epoch 63, Loss: 0.40378206\n",
      "Epoch 64, Loss: 0.40356685\n",
      "Epoch 65, Loss: 0.40336540\n",
      "Epoch 66, Loss: 0.40318380\n",
      "Epoch 67, Loss: 0.40302425\n",
      "Epoch 68, Loss: 0.40288640\n",
      "Epoch 69, Loss: 0.40276873\n",
      "Epoch 70, Loss: 0.40266909\n",
      "Epoch 71, Loss: 0.40258414\n",
      "Epoch 72, Loss: 0.40250881\n",
      "Epoch 73, Loss: 0.40243648\n",
      "Epoch 74, Loss: 0.40236021\n",
      "Epoch 75, Loss: 0.40227426\n",
      "Epoch 76, Loss: 0.40217561\n",
      "Epoch 77, Loss: 0.40206522\n",
      "Epoch 78, Loss: 0.40194805\n",
      "Epoch 79, Loss: 0.40183155\n",
      "Epoch 80, Loss: 0.40172286\n",
      "Epoch 81, Loss: 0.40162635\n",
      "Epoch 82, Loss: 0.40154233\n",
      "Epoch 83, Loss: 0.40146698\n",
      "Epoch 84, Loss: 0.40139308\n",
      "Epoch 85, Loss: 0.40131107\n",
      "Epoch 86, Loss: 0.40121090\n",
      "Epoch 87, Loss: 0.40108508\n",
      "Epoch 88, Loss: 0.40093275\n",
      "Epoch 89, Loss: 0.40076213\n",
      "Epoch 90, Loss: 0.40058795\n",
      "Epoch 91, Loss: 0.40042474\n",
      "Epoch 92, Loss: 0.40028162\n",
      "Epoch 93, Loss: 0.40016152\n",
      "Epoch 94, Loss: 0.40006258\n",
      "Epoch 95, Loss: 0.39997974\n",
      "Epoch 96, Loss: 0.39990603\n",
      "Epoch 97, Loss: 0.39983389\n",
      "Epoch 98, Loss: 0.39975698\n",
      "Epoch 99, Loss: 0.39967207\n",
      "Epoch 100, Loss: 0.39958026\n",
      "Epoch 101, Loss: 0.39948671\n",
      "Epoch 102, Loss: 0.39939856\n",
      "Epoch 103, Loss: 0.39932223\n",
      "Epoch 104, Loss: 0.39926125\n",
      "Epoch 105, Loss: 0.39921559\n",
      "Epoch 106, Loss: 0.39918241\n",
      "Epoch 107, Loss: 0.39915732\n",
      "Epoch 108, Loss: 0.39913600\n",
      "Epoch 109, Loss: 0.39911532\n",
      "Epoch 110, Loss: 0.39909365\n",
      "Epoch 111, Loss: 0.39907058\n",
      "Epoch 112, Loss: 0.39904622\n",
      "Epoch 113, Loss: 0.39902063\n",
      "Epoch 114, Loss: 0.39899343\n",
      "Epoch 115, Loss: 0.39896353\n",
      "Epoch 116, Loss: 0.39892910\n",
      "Epoch 117, Loss: 0.39888753\n",
      "Epoch 118, Loss: 0.39883567\n",
      "Epoch 119, Loss: 0.39877054\n",
      "Epoch 120, Loss: 0.39869030\n",
      "Epoch 121, Loss: 0.39859545\n",
      "Epoch 122, Loss: 0.39848930\n",
      "Epoch 123, Loss: 0.39837725\n",
      "Epoch 124, Loss: 0.39826525\n",
      "Epoch 125, Loss: 0.39815824\n",
      "Epoch 126, Loss: 0.39805908\n",
      "Epoch 127, Loss: 0.39796828\n",
      "Epoch 128, Loss: 0.39788429\n",
      "Epoch 129, Loss: 0.39780443\n",
      "Epoch 130, Loss: 0.39772606\n",
      "Epoch 131, Loss: 0.39764751\n",
      "Epoch 132, Loss: 0.39756838\n",
      "Epoch 133, Loss: 0.39748922\n",
      "Epoch 134, Loss: 0.39741107\n",
      "Epoch 135, Loss: 0.39733500\n",
      "Epoch 136, Loss: 0.39726189\n",
      "Epoch 137, Loss: 0.39719236\n",
      "Epoch 138, Loss: 0.39712680\n",
      "Epoch 139, Loss: 0.39706540\n",
      "Epoch 140, Loss: 0.39700818\n",
      "Epoch 141, Loss: 0.39695508\n",
      "Epoch 142, Loss: 0.39690592\n",
      "Epoch 143, Loss: 0.39686050\n",
      "Epoch 144, Loss: 0.39681855\n",
      "Epoch 145, Loss: 0.39677978\n",
      "Epoch 146, Loss: 0.39674389\n",
      "Epoch 147, Loss: 0.39671060\n",
      "Epoch 148, Loss: 0.39667971\n",
      "Epoch 149, Loss: 0.39665111\n",
      "Epoch 150, Loss: 0.39662492\n",
      "Epoch 151, Loss: 0.39660142\n",
      "Epoch 152, Loss: 0.39658114\n",
      "Epoch 153, Loss: 0.39656469\n",
      "Epoch 154, Loss: 0.39655249\n",
      "Epoch 155, Loss: 0.39654436\n",
      "Epoch 156, Loss: 0.39653905\n",
      "Epoch 157, Loss: 0.39653387\n",
      "Epoch 158, Loss: 0.39652463\n",
      "Epoch 159, Loss: 0.39650631\n",
      "Epoch 160, Loss: 0.39647470\n",
      "Epoch 161, Loss: 0.39642932\n",
      "Epoch 162, Loss: 0.39637561\n",
      "Epoch 163, Loss: 0.39632298\n",
      "Epoch 164, Loss: 0.39627845\n",
      "Epoch 165, Loss: 0.39624242\n",
      "Epoch 166, Loss: 0.39621042\n",
      "Epoch 167, Loss: 0.39617728\n",
      "Epoch 168, Loss: 0.39613932\n",
      "Epoch 169, Loss: 0.39609397\n",
      "Epoch 170, Loss: 0.39603798\n",
      "Epoch 171, Loss: 0.39596578\n",
      "Epoch 172, Loss: 0.39586934\n",
      "Epoch 173, Loss: 0.39574216\n",
      "Epoch 174, Loss: 0.39558875\n",
      "Epoch 175, Loss: 0.39543207\n",
      "Epoch 176, Loss: 0.39530416\n",
      "Epoch 177, Loss: 0.39522475\n",
      "Epoch 178, Loss: 0.39519282\n",
      "Epoch 179, Loss: 0.39519469\n",
      "Epoch 180, Loss: 0.39521422\n",
      "Epoch 181, Loss: 0.39523929\n",
      "Epoch 182, Loss: 0.39526388\n",
      "Epoch 183, Loss: 0.39528635\n",
      "Epoch 184, Loss: 0.39530683\n",
      "Epoch 185, Loss: 0.39532556\n",
      "Epoch 186, Loss: 0.39534223\n",
      "Epoch 187, Loss: 0.39535592\n",
      "Epoch 188, Loss: 0.39536525\n",
      "Epoch 189, Loss: 0.39536858\n",
      "Epoch 190, Loss: 0.39536428\n",
      "Epoch 191, Loss: 0.39535106\n",
      "Epoch 192, Loss: 0.39532839\n",
      "Epoch 193, Loss: 0.39529691\n",
      "Epoch 194, Loss: 0.39525878\n",
      "Epoch 195, Loss: 0.39521763\n",
      "Epoch 196, Loss: 0.39517802\n",
      "Epoch 197, Loss: 0.39514439\n",
      "Epoch 198, Loss: 0.39511971\n",
      "Epoch 199, Loss: 0.39510446\n"
     ]
    }
   ],
   "source": [
    "loss_history, W1, W2, b1, b2 = train(X, Y, W1, W2, b1, b2)"
   ]
  },
  {
   "cell_type": "markdown",
   "metadata": {},
   "source": [
    "### Visualiser la décroissance de l'erreur sur un graphe (optionnel)"
   ]
  },
  {
   "cell_type": "code",
   "execution_count": 124,
   "metadata": {},
   "outputs": [
    {
     "data": {
      "image/png": "[encoded data removed]",
      "text/plain": [
       "<matplotlib.figure.Figure at 0x112d76b70>"
      ]
     },
     "metadata": {},
     "output_type": "display_data"
    }
   ],
   "source": [
    "import matplotlib.pyplot as plt\n",
    "\n",
    "plt.plot(loss_history)\n",
    "plt.show()"
   ]
  },
  {
   "cell_type": "markdown",
   "metadata": {},
   "source": [
    "## Évaluation du réseau de neurones"
   ]
  },
  {
   "cell_type": "markdown",
   "metadata": {},
   "source": [
    "Écrivez une petite fonction qui, à partir des activation de la dernière couche du réseau, produit un vecteur de 1 et de 0. Normalement il suffit de copier-coller quelque lignes de code et d'ajouter quelque chose à la fin. Attention, ici, contrairement à ce qu'on avait dans le MOOC, la dernière couche a 10 valeurs de sortie, et non pas une seule."
   ]
  },
  {
   "cell_type": "code",
   "execution_count": 164,
   "metadata": {},
   "outputs": [],
   "source": [
    "def oneorzero(x):\n",
    "    if x > 0.5 :\n",
    "        return 1\n",
    "    else :\n",
    "        return 0\n",
    "oneorzero = np.vectorize(oneorzero)\n",
    "\n",
    "def predict(X, W1, W2, b1, b2):\n",
    "    # First layer\n",
    "    Z1 = np.add(np.dot(W1, X), b1)\n",
    "    A1 = np.tanh(Z1)\n",
    "    # Second layer\n",
    "    Z2 = np.add(np.dot(W2, A1), b2)\n",
    "    A2 = sigmoid(Z2)"
   ]
  },
  {
   "cell_type": "markdown",
   "metadata": {},
   "source": [
    "### Tester la performance sur un seul exemple\n",
    "Ici on génère un seul exemple (une série de 10 chiffres binaires), puis on fait prédire son inversion."
   ]
  },
  {
   "cell_type": "code",
   "execution_count": 165,
   "metadata": {},
   "outputs": [
    {
     "name": "stdout",
     "output_type": "stream",
     "text": [
      "[[1 1 1 1 1 1 0 0 0 0]]\n",
      "<map object at 0x112d82860>\n"
     ]
    },
    {
     "ename": "TypeError",
     "evalue": "iteration over a 0-d array",
     "output_type": "error",
     "traceback": [
      "\u001b[0;31m---------------------------------------------------------------------------\u001b[0m",
      "\u001b[0;31mTypeError\u001b[0m                                 Traceback (most recent call last)",
      "\u001b[0;32m<ipython-input-165-819e28cab3d9>\u001b[0m in \u001b[0;36m<module>\u001b[0;34m()\u001b[0m\n\u001b[1;32m      1\u001b[0m \u001b[0mX\u001b[0m \u001b[0;34m=\u001b[0m \u001b[0mnp\u001b[0m\u001b[0;34m.\u001b[0m\u001b[0mrandom\u001b[0m\u001b[0;34m.\u001b[0m\u001b[0mbinomial\u001b[0m\u001b[0;34m(\u001b[0m\u001b[0;36m1\u001b[0m\u001b[0;34m,\u001b[0m \u001b[0;36m0.5\u001b[0m\u001b[0;34m,\u001b[0m \u001b[0;34m(\u001b[0m\u001b[0mn_in\u001b[0m\u001b[0;34m,\u001b[0m\u001b[0;36m1\u001b[0m\u001b[0;34m)\u001b[0m\u001b[0;34m)\u001b[0m\u001b[0;34m\u001b[0m\u001b[0m\n\u001b[1;32m      2\u001b[0m \u001b[0mprint\u001b[0m\u001b[0;34m(\u001b[0m\u001b[0mX\u001b[0m\u001b[0;34m.\u001b[0m\u001b[0mT\u001b[0m\u001b[0;34m)\u001b[0m\u001b[0;34m\u001b[0m\u001b[0m\n\u001b[0;32m----> 3\u001b[0;31m \u001b[0mprint\u001b[0m\u001b[0;34m(\u001b[0m\u001b[0mpredict\u001b[0m\u001b[0;34m(\u001b[0m\u001b[0mX\u001b[0m\u001b[0;34m,\u001b[0m \u001b[0mW1\u001b[0m\u001b[0;34m,\u001b[0m \u001b[0mW2\u001b[0m\u001b[0;34m,\u001b[0m \u001b[0mb1\u001b[0m\u001b[0;34m,\u001b[0m \u001b[0mb2\u001b[0m\u001b[0;34m)\u001b[0m\u001b[0;34m.\u001b[0m\u001b[0mT\u001b[0m\u001b[0;34m)\u001b[0m\u001b[0;34m\u001b[0m\u001b[0m\n\u001b[0m",
      "\u001b[0;32m<ipython-input-164-a3eb2d270f6a>\u001b[0m in \u001b[0;36mpredict\u001b[0;34m(X, W1, W2, b1, b2)\u001b[0m\n\u001b[1;32m     14\u001b[0m     \u001b[0mresult\u001b[0m \u001b[0;34m=\u001b[0m \u001b[0mnp\u001b[0m\u001b[0;34m.\u001b[0m\u001b[0marray\u001b[0m\u001b[0;34m(\u001b[0m\u001b[0mmap\u001b[0m\u001b[0;34m(\u001b[0m\u001b[0moneorzero\u001b[0m\u001b[0;34m,\u001b[0m \u001b[0mA2\u001b[0m\u001b[0;34m)\u001b[0m\u001b[0;34m)\u001b[0m\u001b[0;34m\u001b[0m\u001b[0m\n\u001b[1;32m     15\u001b[0m     \u001b[0mprint\u001b[0m\u001b[0;34m(\u001b[0m\u001b[0mresult\u001b[0m\u001b[0;34m)\u001b[0m\u001b[0;34m\u001b[0m\u001b[0m\n\u001b[0;32m---> 16\u001b[0;31m     \u001b[0;32mreturn\u001b[0m \u001b[0mnp\u001b[0m\u001b[0;34m.\u001b[0m\u001b[0mfromiter\u001b[0m\u001b[0;34m(\u001b[0m\u001b[0mresult\u001b[0m\u001b[0;34m,\u001b[0m \u001b[0mdtype\u001b[0m\u001b[0;34m=\u001b[0m\u001b[0mnp\u001b[0m\u001b[0;34m.\u001b[0m\u001b[0mint\u001b[0m\u001b[0;34m)\u001b[0m\u001b[0;34m\u001b[0m\u001b[0m\n\u001b[0m",
      "\u001b[0;31mTypeError\u001b[0m: iteration over a 0-d array"
     ]
    }
   ],
   "source": [
    "X = np.random.binomial(1, 0.5, (n_in,1))\n",
    "print(X.T)\n",
    "print(predict(X, W1, W2, b1, b2).T)"
   ]
  },
  {
   "cell_type": "markdown",
   "metadata": {},
   "source": [
    "### Tester la performance sur une série d'exemples"
   ]
  },
  {
   "cell_type": "code",
   "execution_count": null,
   "metadata": {
    "collapsed": true
   },
   "outputs": [],
   "source": []
  }
 ],
 "metadata": {
  "kernelspec": {
   "display_name": "Python 3",
   "language": "python",
   "name": "python3"
  },
  "language_info": {
   "codemirror_mode": {
    "name": "ipython",
    "version": 3
   },
   "file_extension": ".py",
   "mimetype": "text/x-python",
   "name": "python",
   "nbconvert_exporter": "python",
   "pygments_lexer": "ipython3",
   "version": "3.6.3"
  }
 },
 "nbformat": 4,
 "nbformat_minor": 2
}
